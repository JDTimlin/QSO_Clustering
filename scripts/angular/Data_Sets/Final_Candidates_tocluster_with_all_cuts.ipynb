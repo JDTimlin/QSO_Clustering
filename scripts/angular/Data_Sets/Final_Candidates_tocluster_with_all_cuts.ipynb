{
 "cells": [
  {
   "cell_type": "markdown",
   "metadata": {},
   "source": [
    "# Perform all of the cuts and save the new table to output the final candidates list\n",
    "\n",
    "### This way, I dont have to do all of the cuts in topcat every time..."
   ]
  },
  {
   "cell_type": "code",
   "execution_count": 2,
   "metadata": {
    "collapsed": false
   },
   "outputs": [],
   "source": [
    "import os\n",
    "import warnings\n",
    "import numpy as np\n",
    "from sklearn.neighbors import BallTree\n",
    "from astropy.io import fits as pf\n",
    "import matplotlib.pyplot as plt"
   ]
  },
  {
   "cell_type": "code",
   "execution_count": 34,
   "metadata": {
    "collapsed": false
   },
   "outputs": [
    {
     "name": "stdout",
     "output_type": "stream",
     "text": [
      "(9092,)\n"
     ]
    },
    {
     "name": "stderr",
     "output_type": "stream",
     "text": [
      "/Users/johntimlin/anaconda/lib/python2.7/site-packages/ipykernel/__main__.py:7: RuntimeWarning: invalid value encountered in greater_equal\n",
      "/Users/johntimlin/anaconda/lib/python2.7/site-packages/ipykernel/__main__.py:7: RuntimeWarning: invalid value encountered in less_equal\n",
      "/Users/johntimlin/anaconda/lib/python2.7/site-packages/ipykernel/__main__.py:11: RuntimeWarning: invalid value encountered in greater_equal\n",
      "/Users/johntimlin/anaconda/lib/python2.7/site-packages/ipykernel/__main__.py:11: RuntimeWarning: invalid value encountered in less_equal\n"
     ]
    }
   ],
   "source": [
    "#Triton path to the data and random files\n",
    "file1='../Data_Sets/Candidates_photoz_SpSh_shenzrange_tocluster.fits'\n",
    "\n",
    "#Open the data with fits\n",
    "data=pf.open(file1)[1].data\n",
    "\n",
    "fdx = ((data.ra>=344.1) | (data.ra < 330))&  (data.Ag<=0.21) & (data.zphotNW>=2.9) & (data.zphotNW<=5.4)\n",
    "\n",
    "classification = (data.ypredBAG+data.ypredSVM+data.ypredRFC)\n",
    "imag = 22.5-2.5*np.log10(data.iflux)\n",
    "dx = ((data.zphotNW>=2.9) & (data.zphotNW<=5.4))& ((fdx) |(classification <2))# & (imag>20.2)\n",
    "\n",
    "print np.shape(data[dx])\n",
    "\n",
    "ra = data.ra[dx]\n",
    "dec= data.dec[dx]\n",
    "\n",
    "\n",
    "tbhdu=pf.BinTableHDU.from_columns([pf.Column(name='RA',format='D',array=ra),\n",
    "pf.Column(name='DEC',format='D',array=dec)])\n",
    "\n",
    "\n",
    "prihdr=pf.Header()\n",
    "prihdr['COMMENT']=\"Catalog of high redshift quasars in the SpIES field with all cuts\"\n",
    "prihdu=pf.PrimaryHDU(header=prihdr)\n",
    "\n",
    "hdulist = pf.HDUList([prihdu,tbhdu])\n",
    "\n",
    "#hdulist=pf.HDUList(data[dx])\n",
    "hdulist.writeto('../Data_Sets/Final_cutcand_pos.fits')\n"
   ]
  },
  {
   "cell_type": "code",
   "execution_count": null,
   "metadata": {
    "collapsed": true
   },
   "outputs": [],
   "source": []
  }
 ],
 "metadata": {
  "kernelspec": {
   "display_name": "Python 2",
   "language": "python",
   "name": "python2"
  },
  "language_info": {
   "codemirror_mode": {
    "name": "ipython",
    "version": 2
   },
   "file_extension": ".py",
   "mimetype": "text/x-python",
   "name": "python",
   "nbconvert_exporter": "python",
   "pygments_lexer": "ipython2",
   "version": "2.7.12"
  }
 },
 "nbformat": 4,
 "nbformat_minor": 1
}
