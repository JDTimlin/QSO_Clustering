{
 "cells": [
  {
   "cell_type": "markdown",
   "metadata": {},
   "source": [
    "# Code for generating random redshifts\n",
    "### Takes the measured redshift and mimics the distribution for the random catalog\n",
    "\n",
    "## Make sure to change file paths and names as needed!!!!"
   ]
  },
  {
   "cell_type": "code",
   "execution_count": 1,
   "metadata": {
    "collapsed": true
   },
   "outputs": [],
   "source": [
    "%matplotlib inline\n",
    "import os\n",
    "import numpy as np\n",
    "from astropy.io import fits as pf\n",
    "import matplotlib.pyplot as plt\n",
    "from scipy.optimize import curve_fit\n",
    "import scipy.interpolate as interpolate\n",
    "from astroML.density_estimation import EmpiricalDistribution\n",
    "from astropy.cosmology import FlatLambdaCDM as FLCDM\n",
    "from astropy import coordinates as coord\n",
    "import astropy.units as u\n"
   ]
  },
  {
   "cell_type": "code",
   "execution_count": 2,
   "metadata": {
    "collapsed": true
   },
   "outputs": [],
   "source": [
    "#Read in the data and random catalogs\n",
    "# file path\n",
    "dpath = '../../data/QSO_Candidates_allcuts_with_errors_zcut45.fits'\n",
    "\n",
    "rpath = '../../data/rand100x_kderf_samp.fits'\n",
    "\n",
    "data=pf.open(dpath)[1].data\n",
    "randdat = pf.open(rpath)[1].data\n"
   ]
  },
  {
   "cell_type": "code",
   "execution_count": 3,
   "metadata": {
    "collapsed": false
   },
   "outputs": [
    {
     "name": "stdout",
     "output_type": "stream",
     "text": [
      "8945\n",
      "300000\n",
      "33.5382895472\n"
     ]
    }
   ],
   "source": [
    "'''\n",
    "#Implement cuts from Angular clustering\n",
    "dx = ((data.ra>=344.1) | (data.ra < 330)) & (data.dec>=-1.5) & (data.dec<=1.5)  & (data.Ag<=0.21) & (data.zphotNW>=2.9) & (data.zphotNW<=5.4)\n",
    "rdx = ((randdat.RA>=344.1) | (randdat.RA < 330)) & (randdat.DEC>=-1.5) & (randdat.DEC<=1.5)\n",
    "#Define the first cut on the data in RA, DEC, Ag, and photoz\n",
    "fdx = ((data.ra>=344.1) | (data.ra < 330))&  (data.Ag<=0.21) & (data.zphotNW>=2.9) & (data.zphotNW<=5.4)\n",
    "\n",
    "#Include objects classified in 2/3 algortithms and generate imags\n",
    "classification = (data.ypredBAG+data.ypredSVM+data.ypredRFC)\n",
    "imag = 22.5-2.5*np.log10(data.iflux)\n",
    "#The final classification\n",
    "dx = ((data.zphotNW>=2.9) & (data.zphotNW<=5.4)) & ((fdx) |(classification <2)) #& (imag>20.2)\n",
    "'''\n",
    "dx = ()\n",
    "datra = data.ra[dx]\n",
    "datdec = data.dec[dx]\n",
    "datz = data.zphotNW[dx]\n",
    "\n",
    "#Random cut (No random cut needed for the above data cuts)\n",
    "rdx = ()\n",
    "randra = randdat.RA[rdx]\n",
    "randdec= randdat.DEC[rdx]\n",
    "\n",
    "\n",
    "print len(data.ra[dx])\n",
    "print len(randdat.RA[rdx])\n",
    "factor=len(randra)/float(len(datz))\n",
    "print factor"
   ]
  },
  {
   "cell_type": "code",
   "execution_count": 4,
   "metadata": {
    "collapsed": false
   },
   "outputs": [
    {
     "name": "stdout",
     "output_type": "stream",
     "text": [
      "0.0540347207706\n",
      "300000\n"
     ]
    },
    {
     "name": "stderr",
     "output_type": "stream",
     "text": [
      "/Users/johntimlin/anaconda/lib/python2.7/site-packages/astroML/density_estimation/empirical.py:110: VisibleDeprecationWarning: using a non-integer number instead of an integer will result in an error in the future\n",
      "  y = np.random.random(shape)\n"
     ]
    }
   ],
   "source": [
    "#Compute the optimal bin width (and number) using the Freedman-Diaconis rule \n",
    "q75, q25 = np.percentile(datz, [75 ,25])\n",
    "iqr = q75 - q25\n",
    "FDrule = 2* iqr / (float(len(datz))**(1/3.0))\n",
    "bnum = round((max(datz)-min(datz))/FDrule)\n",
    "\n",
    "print FDrule\n",
    "\n",
    "bins=np.linspace(min(datz),max(datz),bnum)\n",
    "binsmid = bins[:-1] + np.diff(bins)/2. #find the center of the bins\n",
    "\n",
    "bin=np.linspace(min(datz),max(datz),len(bins))#*factor)\n",
    "binmid = bin[:-1] + np.diff(bin)/2. #find the center of the bins\n",
    "\n",
    "randsz = EmpiricalDistribution(datz).rvs(len(datz)*factor)\n",
    "print len(randsz)\n",
    "\n",
    "#dat,xd = np.histogram(data.zphotbest[gdx], bins=bins)\n",
    "dat,xd = np.histogram(datz, bins=bins)\n",
    "rand,xr = np.histogram(randsz, bins=bin)\n"
   ]
  },
  {
   "cell_type": "code",
   "execution_count": 5,
   "metadata": {
    "collapsed": false
   },
   "outputs": [
    {
     "data": {
      "image/png": "[encoded data removed]",
      "text/plain": [
       "<matplotlib.figure.Figure at 0x1120406d0>"
      ]
     },
     "metadata": {},
     "output_type": "display_data"
    }
   ],
   "source": [
    "plt.figure(1)\n",
    "plt.title('Redshift Distributions')\n",
    "plt.plot(binsmid,dat,linestyle='steps-mid',label='data', linewidth=3)\n",
    "plt.plot(binmid,rand/factor,linestyle='steps-mid',label='scaled randoms',linewidth=2)\n",
    "plt.xlabel('z')\n",
    "plt.ylabel('Number')\n",
    "plt.legend()\n",
    "plt.show()"
   ]
  },
  {
   "cell_type": "code",
   "execution_count": 6,
   "metadata": {
    "collapsed": false
   },
   "outputs": [
    {
     "name": "stdout",
     "output_type": "stream",
     "text": [
      "300000 300000 300000\n"
     ]
    }
   ],
   "source": [
    "#Setup the random set columns\n",
    "RA=np.array(randra)\n",
    "DEC=np.array(randdec)\n",
    "Z=np.array(randsz)\n",
    "print len(RA), len(DEC), len(Z)\n"
   ]
  },
  {
   "cell_type": "code",
   "execution_count": 7,
   "metadata": {
    "collapsed": true
   },
   "outputs": [],
   "source": [
    "#Generate a table with the random columns\n",
    "\n",
    "tbhdu=pf.BinTableHDU.from_columns([pf.Column(name='RA',format='D',array=RA),\n",
    "pf.Column(name='DEC',format='D',array=DEC),\n",
    "pf.Column(name='Z',format='D',array=Z)])\n",
    "\n",
    "prihdr=pf.Header()\n",
    "prihdr['COMMENT']=\"300,000 random points in the SpIES dual-band footprint\"\n",
    "prihdu=pf.PrimaryHDU(header=prihdr)\n",
    "\n",
    "hdulist=pf.HDUList([prihdu,tbhdu])\n",
    "#hdulist.writeto('../Randoms_with_redshifts.fits')"
   ]
  },
  {
   "cell_type": "markdown",
   "metadata": {},
   "source": [
    "# Convert the randoms and data into cartesian x,y,z and generate table"
   ]
  },
  {
   "cell_type": "code",
   "execution_count": 8,
   "metadata": {
    "collapsed": true
   },
   "outputs": [],
   "source": [
    "#separate RA, DEC, Z for randoms and data\n",
    "\n",
    "obsra=datra\n",
    "obsdec=datdec\n",
    "obsz=datz\n",
    "\n",
    "randra=RA\n",
    "randdec=DEC\n",
    "randz=Z"
   ]
  },
  {
   "cell_type": "code",
   "execution_count": 9,
   "metadata": {
    "collapsed": false
   },
   "outputs": [],
   "source": [
    "#Convert redshift to Mpc\n",
    "#Use the Planck2015 Cosmology of H0=70, omegaM = 0.274\n",
    "#In physical density we have O_bary = 0.0223 and O_DM = 0.1188 and the conversion is\n",
    "# O_matter = (O_bary+O_DM)/((H0/100)^2)\n",
    "slaqcosmo=FLCDM(70,0.274,2.725)\n",
    "obsX=slaqcosmo.comoving_distance(obsz)\n",
    "randX=slaqcosmo.comoving_distance(randz)\n"
   ]
  },
  {
   "cell_type": "code",
   "execution_count": 24,
   "metadata": {
    "collapsed": false
   },
   "outputs": [],
   "source": [
    "#Convert RA/DEC to cartesian coords\n",
    "cutcoord=coord.SkyCoord(ra=obsra*u.degree,dec=obsdec*u.degree, distance=obsX,frame='icrs')\n",
    "randcoord=coord.SkyCoord(ra=randra*u.degree,dec=randdec*u.degree, distance=randX,frame='icrs')\n",
    "cx=cutcoord.cartesian.x\n",
    "cy=cutcoord.cartesian.y\n",
    "cz=cutcoord.cartesian.z\n",
    "rx=randcoord.cartesian.x\n",
    "ry=randcoord.cartesian.y\n",
    "rz=randcoord.cartesian.z"
   ]
  },
  {
   "cell_type": "code",
   "execution_count": null,
   "metadata": {
    "collapsed": false
   },
   "outputs": [],
   "source": []
  },
  {
   "cell_type": "code",
   "execution_count": 17,
   "metadata": {
    "collapsed": false
   },
   "outputs": [],
   "source": [
    "#Write to a file\n",
    "tbhdu=pf.BinTableHDU.from_columns([pf.Column(name='datx',format='D',array=cx),\n",
    "pf.Column(name='daty',format='D',array=cy),pf.Column(name='datz',format='D',array=cz),pf.Column(name='randx',format='D',array=rx),\n",
    "pf.Column(name='randy',format='D',array=ry), pf.Column(name='randz',format='D',array=rz)])\n",
    "\n",
    "prihdr=pf.Header()\n",
    "prihdr['COMMENT']=\"Catalog of high redshift quasar candidates in the SpIES field\"\n",
    "prihdu=pf.PrimaryHDU(header=prihdr)\n",
    "\n",
    "hdulist=pf.HDUList([prihdu,tbhdu])\n",
    "#hdulist.writeto('QSO_candidates_highz_cartesian_werr_zcut45.fits')"
   ]
  },
  {
   "cell_type": "code",
   "execution_count": null,
   "metadata": {
    "collapsed": true
   },
   "outputs": [],
   "source": []
  },
  {
   "cell_type": "code",
   "execution_count": null,
   "metadata": {
    "collapsed": true
   },
   "outputs": [],
   "source": []
  },
  {
   "cell_type": "code",
   "execution_count": null,
   "metadata": {
    "collapsed": false
   },
   "outputs": [],
   "source": []
  },
  {
   "cell_type": "code",
   "execution_count": null,
   "metadata": {
    "collapsed": true
   },
   "outputs": [],
   "source": []
  },
  {
   "cell_type": "code",
   "execution_count": null,
   "metadata": {
    "collapsed": true
   },
   "outputs": [],
   "source": []
  }
 ],
 "metadata": {
  "kernelspec": {
   "display_name": "Python 2",
   "language": "python",
   "name": "python2"
  },
  "language_info": {
   "codemirror_mode": {
    "name": "ipython",
    "version": 2
   },
   "file_extension": ".py",
   "mimetype": "text/x-python",
   "name": "python",
   "nbconvert_exporter": "python",
   "pygments_lexer": "ipython2",
   "version": "2.7.12"
  }
 },
 "nbformat": 4,
 "nbformat_minor": 1
}
