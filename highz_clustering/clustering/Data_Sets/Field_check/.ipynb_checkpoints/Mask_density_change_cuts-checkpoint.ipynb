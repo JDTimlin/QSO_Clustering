{
 "cells": [
  {
   "cell_type": "code",
   "execution_count": 19,
   "metadata": {
    "collapsed": true
   },
   "outputs": [],
   "source": [
    "import numpy as np\n",
    "import matplotlib.pyplot as plt\n",
    "from astropy.io import fits as pf\n",
    "import collections"
   ]
  },
  {
   "cell_type": "code",
   "execution_count": 114,
   "metadata": {
    "collapsed": false
   },
   "outputs": [
    {
     "name": "stdout",
     "output_type": "stream",
     "text": [
      "3255.0\n",
      "2175.0\n",
      "1\n"
     ]
    }
   ],
   "source": [
    "#open the All candidate data\n",
    "file1 = 'HZLZ_Candidate_pixels.fits'\n",
    "\n",
    "data = pf.open(file1)[1].data\n",
    "\n",
    "RA1 = data.RA\n",
    "DEC1 = data.DEC\n",
    "ID1 = data.ID\n",
    "print max(data.IDdata.ID)\n",
    "\n",
    "objects = collections.Counter(ID1)\n",
    "unique = list(objects)\n",
    "print unique[51]\n",
    "print objects[2175.0]"
   ]
  },
  {
   "cell_type": "code",
   "execution_count": 57,
   "metadata": {
    "collapsed": false
   },
   "outputs": [
    {
     "name": "stdout",
     "output_type": "stream",
     "text": [
      "(551,)\n",
      "(551,)\n",
      "1 2175.0\n"
     ]
    }
   ],
   "source": [
    "numbers = [objects[i] for i in unique]\n",
    "\n",
    "print np.shape(unique)\n",
    "print np.shape(numbers)\n",
    "\n",
    "\n",
    "print numbers[51],unique[51]"
   ]
  },
  {
   "cell_type": "code",
   "execution_count": 11,
   "metadata": {
    "collapsed": false
   },
   "outputs": [],
   "source": [
    "#Examine the number counts of data in each polygon from the ID\n",
    "#The data polygon numbers increment by 1\n",
    "bins = range(int(min(ID1)),int(max(ID1)))\n",
    "\n"
   ]
  },
  {
   "cell_type": "code",
   "execution_count": null,
   "metadata": {
    "collapsed": false
   },
   "outputs": [],
   "source": []
  },
  {
   "cell_type": "code",
   "execution_count": 59,
   "metadata": {
    "collapsed": false
   },
   "outputs": [],
   "source": [
    "#open the Cut candidate data\n",
    "file2 = 'HZLZ_Candidate_pixels_extcut.fits'\n",
    "\n",
    "data2 = pf.open(file2)[1].data\n",
    "\n",
    "RA2 = data2.RA\n",
    "DEC2 = data2.DEC\n",
    "ID2 = data2.ID\n",
    "\n",
    "objects2 = collections.Counter(ID2)\n",
    "unique2 = list(objects2)\n"
   ]
  },
  {
   "cell_type": "code",
   "execution_count": 68,
   "metadata": {
    "collapsed": false
   },
   "outputs": [],
   "source": [
    "ratios=[]\n",
    "for i in unique:\n",
    "    ratios.append(float(objects2[i])/objects[i])\n"
   ]
  },
  {
   "cell_type": "code",
   "execution_count": 69,
   "metadata": {
    "collapsed": false
   },
   "outputs": [
    {
     "name": "stdout",
     "output_type": "stream",
     "text": [
      "551\n",
      "551\n"
     ]
    }
   ],
   "source": [
    "print len(unique)\n",
    "print len(ratios)"
   ]
  },
  {
   "cell_type": "code",
   "execution_count": 86,
   "metadata": {
    "collapsed": false
   },
   "outputs": [],
   "source": [
    "gdx = (np.asarray(ratios) == 0.0)\n",
    "bdx = np.asarray(unique)[gdx]"
   ]
  },
  {
   "cell_type": "code",
   "execution_count": 115,
   "metadata": {
    "collapsed": false
   },
   "outputs": [
    {
     "name": "stdout",
     "output_type": "stream",
     "text": [
      "33.0 4.048489\n",
      "2097.0 15.525495\n",
      "115.0 13.489963\n",
      "126.0 15.819953\n",
      "131.0 17.76704\n",
      "136.0 19.758388\n",
      "203.0 20.253153\n",
      "2256.0 7.614062\n",
      "2301.0 16.801855\n",
      "278.0 14.760863\n",
      "2358.0 17.084808\n",
      "396.0 15.340738\n",
      "371.0 17.491417\n",
      "373.0 17.612263\n",
      "2458.0 33.840324\n",
      "2511.0 24.913902\n",
      "2537.0 27.460066\n",
      "2635.0 25.188074\n",
      "2686.0 24.256901\n",
      "2887.0 335.519684\n",
      "2800.0 25.277014\n",
      "2868.0 331.879961\n",
      "2875.0 332.951447\n",
      "2883.0 334.691681\n",
      "2891.0 334.982941\n",
      "848.0 35.492756\n",
      "2902.0 336.403839\n",
      "2905.0 336.396606\n",
      "2908.0 337.492676\n",
      "2926.0 334.726135\n",
      "881.0 25.342705\n",
      "2952.0 337.265442\n",
      "2956.0 337.478394\n",
      "2965.0 337.978149\n",
      "924.0 25.829706\n",
      "2992.0 341.463562\n",
      "2994.0 341.021332\n",
      "2996.0 342.223846\n",
      "2998.0 341.926269\n",
      "3004.0 342.89209\n",
      "3014.0 342.894562\n",
      "3017.0 343.512848\n",
      "3024.0 343.873077\n",
      "3036.0 345.724567\n",
      "3042.0 346.777191\n",
      "1025.0 23.709494\n",
      "3161.0 338.203174\n",
      "3172.0 340.957916\n",
      "3201.0 345.418488\n",
      "3208.0 346.802612\n",
      "1204.0 331.488586\n",
      "1206.0 331.508026\n",
      "1208.0 331.830536\n",
      "1232.0 334.216553\n",
      "1245.0 336.701355\n",
      "1256.0 337.447968\n",
      "2942.0 337.195751\n",
      "1306.0 337.833404\n",
      "1309.0 338.851013\n",
      "1310.0 339.548218\n",
      "1313.0 339.652629\n",
      "1326.0 340.782715\n",
      "1333.0 341.952972\n",
      "1340.0 342.386932\n",
      "1345.0 342.796661\n",
      "1348.0 342.657772\n",
      "1356.0 344.147675\n",
      "1359.0 344.271942\n",
      "1365.0 344.597229\n",
      "1380.0 346.840485\n",
      "1449.0 355.020782\n",
      "2981.0 339.674255\n",
      "1507.0 340.246778\n",
      "1550.0 344.463783\n",
      "1643.0 3.46643\n",
      "1721.0 11.789654\n",
      "1741.0 16.370077\n",
      "1746.0 14.265687\n",
      "1748.0 16.967621\n",
      "1767.0 18.63913\n",
      "1784.0 21.091387\n",
      "1799.0 20.866165\n",
      "1829.0 15.525127\n",
      "1898.0 14.58845\n",
      "1973.0 18.507606\n",
      "1979.0 18.058155\n",
      "2005.0 20.259586\n"
     ]
    }
   ],
   "source": [
    "for i in bdx:\n",
    "    idx = np.where(ID1==i)[0][0]\n",
    "    print data.ID[idx], data.RA[idx]"
   ]
  },
  {
   "cell_type": "code",
   "execution_count": 107,
   "metadata": {
    "collapsed": false
   },
   "outputs": [
    {
     "name": "stdout",
     "output_type": "stream",
     "text": [
      "[  0.   0.   0.   0.   0.   0.   0.   0.   1.   8.   8.   8.   8.   8.   8.\n",
      "   8.   8.  12.  14.  14.  14.  14.  14.  14.  14.  14.  19.  19.  19.  19.\n",
      "  19.  19.  19.  19.  19.  19.  19.  19.  25.  25.  25.  25.  25.  25.  25.\n",
      "  27.  30.  30.  30.  30.  30.  30.  30.  30.  30.  30.  33.  36.  36.  36.\n",
      "  36.  36.  36.  36.  36.  36.  36.  37.  39.  40.  40.  40.  40.  44.  45.\n",
      "  45.  45.  45.  45.  45.  48.  51.  51.  51.  51.  51.  51.  53.  57.  57.\n",
      "  57.  57.  57.  57.  57.  57.  57.  57.  57.  57.]\n"
     ]
    }
   ],
   "source": [
    "print np.sort(data.ID)[:100]"
   ]
  },
  {
   "cell_type": "code",
   "execution_count": null,
   "metadata": {
    "collapsed": true
   },
   "outputs": [],
   "source": [
    "# Write the file that gives a zero weight to the IDs that dropped to zero after the cut\n",
    "\n",
    "Total_Polygons = 3260\n",
    "f = open('Weight_mask_cut_objects.txt','w')\n",
    "f.write('#Weights\\n')\n",
    "for i in range(Total_Polygons):\n",
    "    cut = (bdx == float(i))\n",
    "    if bdx[cut] == True:\n",
    "        print i\n",
    "        print 'Bad Polygon'\n",
    "        f.write('0\\n')\n",
    "    else:\n",
    "        f.write('1\\n')\n",
    "\n",
    "f.close()"
   ]
  }
 ],
 "metadata": {
  "kernelspec": {
   "display_name": "Python 2",
   "language": "python",
   "name": "python2"
  },
  "language_info": {
   "codemirror_mode": {
    "name": "ipython",
    "version": 2
   },
   "file_extension": ".py",
   "mimetype": "text/x-python",
   "name": "python",
   "nbconvert_exporter": "python",
   "pygments_lexer": "ipython2",
   "version": "2.7.12"
  }
 },
 "nbformat": 4,
 "nbformat_minor": 1
}
