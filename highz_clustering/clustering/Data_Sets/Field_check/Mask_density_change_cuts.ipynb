{
 "cells": [
  {
   "cell_type": "code",
   "execution_count": 19,
   "metadata": {
    "collapsed": true
   },
   "outputs": [],
   "source": [
    "import numpy as np\n",
    "import matplotlib.pyplot as plt\n",
    "from astropy.io import fits as pf\n",
    "import collections"
   ]
  },
  {
   "cell_type": "code",
   "execution_count": 126,
   "metadata": {
    "collapsed": false
   },
   "outputs": [
    {
     "name": "stdout",
     "output_type": "stream",
     "text": [
      "3255.0\n",
      "2175.0\n",
      "1\n"
     ]
    }
   ],
   "source": [
    "#open the All candidate data\n",
    "file1 = 'HZLZ_Candidate_pixels.fits'\n",
    "\n",
    "data = pf.open(file1)[1].data\n",
    "\n",
    "RA1 = data.RA\n",
    "DEC1 = data.DEC\n",
    "ID1 = data.ID\n",
    "print max(data.ID)\n",
    "\n",
    "objects = collections.Counter(ID1)\n",
    "unique = list(objects)\n",
    "print unique[51]\n",
    "print objects[2175.0]"
   ]
  },
  {
   "cell_type": "code",
   "execution_count": 127,
   "metadata": {
    "collapsed": false
   },
   "outputs": [
    {
     "name": "stdout",
     "output_type": "stream",
     "text": [
      "(551,)\n",
      "(551,)\n",
      "1 2175.0\n"
     ]
    }
   ],
   "source": [
    "numbers = [objects[i] for i in unique]\n",
    "\n",
    "print np.shape(unique)\n",
    "print np.shape(numbers)\n",
    "\n",
    "\n",
    "print numbers[51],unique[51]"
   ]
  },
  {
   "cell_type": "code",
   "execution_count": null,
   "metadata": {
    "collapsed": false
   },
   "outputs": [],
   "source": []
  },
  {
   "cell_type": "code",
   "execution_count": null,
   "metadata": {
    "collapsed": false
   },
   "outputs": [],
   "source": []
  },
  {
   "cell_type": "code",
   "execution_count": 150,
   "metadata": {
    "collapsed": false
   },
   "outputs": [
    {
     "name": "stdout",
     "output_type": "stream",
     "text": [
      "[  0.   1.   8.  12.  14.  19.  25.  27.  30.  36.]\n",
      "[  0.   1.   8.  12.  14.  19.  25.  27.  30.  33.]\n"
     ]
    }
   ],
   "source": [
    "#open the Cut candidate data\n",
    "file2 = 'HZLZ_Candidate_pixels_extcut.fits'\n",
    "\n",
    "data2 = pf.open(file2)[1].data\n",
    "\n",
    "RA2 = data2.RA\n",
    "DEC2 = data2.DEC\n",
    "ID2 = data2.ID\n",
    "\n",
    "objects2 = collections.Counter(ID2)\n",
    "unique2 = list(objects2)\n",
    "print np.sort(unique2)[:10]\n",
    "print np.sort(unique)[:10]"
   ]
  },
  {
   "cell_type": "code",
   "execution_count": 151,
   "metadata": {
    "collapsed": false
   },
   "outputs": [
    {
     "name": "stdout",
     "output_type": "stream",
     "text": [
      "0\n",
      "1\n"
     ]
    }
   ],
   "source": [
    "print objects2[33.0]\n",
    "print objects[33.0]"
   ]
  },
  {
   "cell_type": "code",
   "execution_count": 68,
   "metadata": {
    "collapsed": false
   },
   "outputs": [],
   "source": [
    "ratios=[]\n",
    "for i in unique:\n",
    "    ratios.append(float(objects2[i])/objects[i])\n"
   ]
  },
  {
   "cell_type": "code",
   "execution_count": 69,
   "metadata": {
    "collapsed": false
   },
   "outputs": [
    {
     "name": "stdout",
     "output_type": "stream",
     "text": [
      "551\n",
      "551\n"
     ]
    }
   ],
   "source": [
    "print len(unique)\n",
    "print len(ratios)"
   ]
  },
  {
   "cell_type": "code",
   "execution_count": 86,
   "metadata": {
    "collapsed": false
   },
   "outputs": [],
   "source": [
    "gdx = (np.asarray(ratios) == 0.0)\n",
    "bdx = np.asarray(unique)[gdx]"
   ]
  },
  {
   "cell_type": "code",
   "execution_count": 115,
   "metadata": {
    "collapsed": false
   },
   "outputs": [
    {
     "name": "stdout",
     "output_type": "stream",
     "text": [
      "33.0 4.048489\n",
      "2097.0 15.525495\n",
      "115.0 13.489963\n",
      "126.0 15.819953\n",
      "131.0 17.76704\n",
      "136.0 19.758388\n",
      "203.0 20.253153\n",
      "2256.0 7.614062\n",
      "2301.0 16.801855\n",
      "278.0 14.760863\n",
      "2358.0 17.084808\n",
      "396.0 15.340738\n",
      "371.0 17.491417\n",
      "373.0 17.612263\n",
      "2458.0 33.840324\n",
      "2511.0 24.913902\n",
      "2537.0 27.460066\n",
      "2635.0 25.188074\n",
      "2686.0 24.256901\n",
      "2887.0 335.519684\n",
      "2800.0 25.277014\n",
      "2868.0 331.879961\n",
      "2875.0 332.951447\n",
      "2883.0 334.691681\n",
      "2891.0 334.982941\n",
      "848.0 35.492756\n",
      "2902.0 336.403839\n",
      "2905.0 336.396606\n",
      "2908.0 337.492676\n",
      "2926.0 334.726135\n",
      "881.0 25.342705\n",
      "2952.0 337.265442\n",
      "2956.0 337.478394\n",
      "2965.0 337.978149\n",
      "924.0 25.829706\n",
      "2992.0 341.463562\n",
      "2994.0 341.021332\n",
      "2996.0 342.223846\n",
      "2998.0 341.926269\n",
      "3004.0 342.89209\n",
      "3014.0 342.894562\n",
      "3017.0 343.512848\n",
      "3024.0 343.873077\n",
      "3036.0 345.724567\n",
      "3042.0 346.777191\n",
      "1025.0 23.709494\n",
      "3161.0 338.203174\n",
      "3172.0 340.957916\n",
      "3201.0 345.418488\n",
      "3208.0 346.802612\n",
      "1204.0 331.488586\n",
      "1206.0 331.508026\n",
      "1208.0 331.830536\n",
      "1232.0 334.216553\n",
      "1245.0 336.701355\n",
      "1256.0 337.447968\n",
      "2942.0 337.195751\n",
      "1306.0 337.833404\n",
      "1309.0 338.851013\n",
      "1310.0 339.548218\n",
      "1313.0 339.652629\n",
      "1326.0 340.782715\n",
      "1333.0 341.952972\n",
      "1340.0 342.386932\n",
      "1345.0 342.796661\n",
      "1348.0 342.657772\n",
      "1356.0 344.147675\n",
      "1359.0 344.271942\n",
      "1365.0 344.597229\n",
      "1380.0 346.840485\n",
      "1449.0 355.020782\n",
      "2981.0 339.674255\n",
      "1507.0 340.246778\n",
      "1550.0 344.463783\n",
      "1643.0 3.46643\n",
      "1721.0 11.789654\n",
      "1741.0 16.370077\n",
      "1746.0 14.265687\n",
      "1748.0 16.967621\n",
      "1767.0 18.63913\n",
      "1784.0 21.091387\n",
      "1799.0 20.866165\n",
      "1829.0 15.525127\n",
      "1898.0 14.58845\n",
      "1973.0 18.507606\n",
      "1979.0 18.058155\n",
      "2005.0 20.259586\n"
     ]
    }
   ],
   "source": [
    "for i in bdx:\n",
    "    idx = np.where(ID1==i)[0][0]\n",
    "    print data.ID[idx], data.RA[idx]"
   ]
  },
  {
   "cell_type": "code",
   "execution_count": 123,
   "metadata": {
    "collapsed": false
   },
   "outputs": [
    {
     "name": "stdout",
     "output_type": "stream",
     "text": [
      "[False False False False False False False False False False False False\n",
      " False False False False False False False False False False False False\n",
      " False False False False False False False False False False False False\n",
      " False False False False False False False False False False False False\n",
      " False False False False False False False False False False False False\n",
      " False False False False False False False False False False False False\n",
      " False False False False False False False False False False False False\n",
      " False False False]\n",
      "0\n"
     ]
    }
   ],
   "source": [
    "cut = (bdx == 116)\n",
    "print cut\n",
    "print len(bdx[cut])"
   ]
  },
  {
   "cell_type": "code",
   "execution_count": 124,
   "metadata": {
    "collapsed": false
   },
   "outputs": [
    {
     "name": "stdout",
     "output_type": "stream",
     "text": [
      "33\n",
      "Bad Polygon\n",
      "115\n",
      "Bad Polygon\n",
      "126\n",
      "Bad Polygon\n",
      "131\n",
      "Bad Polygon\n",
      "136\n",
      "Bad Polygon\n",
      "203\n",
      "Bad Polygon\n",
      "278\n",
      "Bad Polygon\n",
      "371\n",
      "Bad Polygon\n",
      "373\n",
      "Bad Polygon\n",
      "396\n",
      "Bad Polygon\n",
      "848\n",
      "Bad Polygon\n",
      "881\n",
      "Bad Polygon\n",
      "924\n",
      "Bad Polygon\n",
      "1025\n",
      "Bad Polygon\n",
      "1204\n",
      "Bad Polygon\n",
      "1206\n",
      "Bad Polygon\n",
      "1208\n",
      "Bad Polygon\n",
      "1232\n",
      "Bad Polygon\n",
      "1245\n",
      "Bad Polygon\n",
      "1256\n",
      "Bad Polygon\n",
      "1306\n",
      "Bad Polygon\n",
      "1309\n",
      "Bad Polygon\n",
      "1310\n",
      "Bad Polygon\n",
      "1313\n",
      "Bad Polygon\n",
      "1326\n",
      "Bad Polygon\n",
      "1333\n",
      "Bad Polygon\n",
      "1340\n",
      "Bad Polygon\n",
      "1345\n",
      "Bad Polygon\n",
      "1348\n",
      "Bad Polygon\n",
      "1356\n",
      "Bad Polygon\n",
      "1359\n",
      "Bad Polygon\n",
      "1365\n",
      "Bad Polygon\n",
      "1380\n",
      "Bad Polygon\n",
      "1449\n",
      "Bad Polygon\n",
      "1507\n",
      "Bad Polygon\n",
      "1550\n",
      "Bad Polygon\n",
      "1643\n",
      "Bad Polygon\n",
      "1721\n",
      "Bad Polygon\n",
      "1741\n",
      "Bad Polygon\n",
      "1746\n",
      "Bad Polygon\n",
      "1748\n",
      "Bad Polygon\n",
      "1767\n",
      "Bad Polygon\n",
      "1784\n",
      "Bad Polygon\n",
      "1799\n",
      "Bad Polygon\n",
      "1829\n",
      "Bad Polygon\n",
      "1898\n",
      "Bad Polygon\n",
      "1973\n",
      "Bad Polygon\n",
      "1979\n",
      "Bad Polygon\n",
      "2005\n",
      "Bad Polygon\n",
      "2097\n",
      "Bad Polygon\n",
      "2256\n",
      "Bad Polygon\n",
      "2301\n",
      "Bad Polygon\n",
      "2358\n",
      "Bad Polygon\n",
      "2458\n",
      "Bad Polygon\n",
      "2511\n",
      "Bad Polygon\n",
      "2537\n",
      "Bad Polygon\n",
      "2635\n",
      "Bad Polygon\n",
      "2686\n",
      "Bad Polygon\n",
      "2800\n",
      "Bad Polygon\n",
      "2868\n",
      "Bad Polygon\n",
      "2875\n",
      "Bad Polygon\n",
      "2883\n",
      "Bad Polygon\n",
      "2887\n",
      "Bad Polygon\n",
      "2891\n",
      "Bad Polygon\n",
      "2902\n",
      "Bad Polygon\n",
      "2905\n",
      "Bad Polygon\n",
      "2908\n",
      "Bad Polygon\n",
      "2926\n",
      "Bad Polygon\n",
      "2942\n",
      "Bad Polygon\n",
      "2952\n",
      "Bad Polygon\n",
      "2956\n",
      "Bad Polygon\n",
      "2965\n",
      "Bad Polygon\n",
      "2981\n",
      "Bad Polygon\n",
      "2992\n",
      "Bad Polygon\n",
      "2994\n",
      "Bad Polygon\n",
      "2996\n",
      "Bad Polygon\n",
      "2998\n",
      "Bad Polygon\n",
      "3004\n",
      "Bad Polygon\n",
      "3014\n",
      "Bad Polygon\n",
      "3017\n",
      "Bad Polygon\n",
      "3024\n",
      "Bad Polygon\n",
      "3036\n",
      "Bad Polygon\n",
      "3042\n",
      "Bad Polygon\n",
      "3161\n",
      "Bad Polygon\n",
      "3172\n",
      "Bad Polygon\n",
      "3201\n",
      "Bad Polygon\n",
      "3208\n",
      "Bad Polygon\n"
     ]
    }
   ],
   "source": [
    "# Write the file that gives a zero weight to the IDs that dropped to zero after the cut\n",
    "\n",
    "Total_Polygons = 3260\n",
    "f = open('Weight_mask_cut_objects.txt','w')\n",
    "f.write('#Weights\\n')\n",
    "for i in range(Total_Polygons):\n",
    "    cut = (bdx == float(i))\n",
    "    if len(bdx[cut]) >0:\n",
    "        print i\n",
    "        print 'Bad Polygon'\n",
    "        f.write('0\\n')\n",
    "    else:\n",
    "        f.write('1\\n')\n",
    "\n",
    "f.close()"
   ]
  },
  {
   "cell_type": "code",
   "execution_count": null,
   "metadata": {
    "collapsed": true
   },
   "outputs": [],
   "source": []
  }
 ],
 "metadata": {
  "kernelspec": {
   "display_name": "Python 2",
   "language": "python",
   "name": "python2"
  },
  "language_info": {
   "codemirror_mode": {
    "name": "ipython",
    "version": 2
   },
   "file_extension": ".py",
   "mimetype": "text/x-python",
   "name": "python",
   "nbconvert_exporter": "python",
   "pygments_lexer": "ipython2",
   "version": "2.7.12"
  }
 },
 "nbformat": 4,
 "nbformat_minor": 1
}
