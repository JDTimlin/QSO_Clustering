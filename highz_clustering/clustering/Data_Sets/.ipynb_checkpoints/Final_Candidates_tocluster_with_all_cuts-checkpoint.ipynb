{
 "cells": [
  {
   "cell_type": "markdown",
   "metadata": {},
   "source": [
    "# Perform all of the cuts and save the new table to output the final candidates list\n",
    "\n",
    "### This way, I dont have to do all of the cuts in topcat every time..."
   ]
  },
  {
   "cell_type": "code",
   "execution_count": 6,
   "metadata": {
    "collapsed": false
   },
   "outputs": [],
   "source": [
    "import os\n",
    "import warnings\n",
    "import numpy as np\n",
    "from sklearn.neighbors import BallTree\n",
    "from astropy.io import fits as pf\n",
    "import matplotlib.pyplot as plt"
   ]
  },
  {
   "cell_type": "code",
   "execution_count": null,
   "metadata": {
    "collapsed": false
   },
   "outputs": [],
   "source": []
  },
  {
   "cell_type": "code",
   "execution_count": 33,
   "metadata": {
    "collapsed": false
   },
   "outputs": [
    {
     "name": "stdout",
     "output_type": "stream",
     "text": [
      "[  9.42772  36.2621   13.49613 ...,   1.44174   2.0414    1.92255]\n",
      "[-25.13839914 -26.47909811 -25.38499399 ..., -22.97172148 -23.39491923\n",
      " -23.29794685]\n"
     ]
    },
    {
     "name": "stderr",
     "output_type": "stream",
     "text": [
      "/Users/johntimlin/anaconda/lib/python2.7/site-packages/ipykernel/__main__.py:9: RuntimeWarning: invalid value encountered in greater_equal\n",
      "/Users/johntimlin/anaconda/lib/python2.7/site-packages/ipykernel/__main__.py:9: RuntimeWarning: invalid value encountered in less_equal\n",
      "/Users/johntimlin/anaconda/lib/python2.7/site-packages/ipykernel/__main__.py:16: RuntimeWarning: invalid value encountered in greater_equal\n",
      "/Users/johntimlin/anaconda/lib/python2.7/site-packages/ipykernel/__main__.py:16: RuntimeWarning: invalid value encountered in less_equal\n"
     ]
    }
   ],
   "source": [
    "#Triton path to the data and random files\n",
    "#file1='../Data_Sets/Candidates_photoz_SpSh_shenzrange_tocluster.fits'\n",
    "file1 = '/Users/johntimlin/Catalogs/QSO_candidates/Final_S82_candidates_full/New_Training_VVDS_M13_DR12Q_photoz.fits'\n",
    "\n",
    "#Open the data with fits\n",
    "\n",
    "data=pf.open(file1)[1].data\n",
    "Ag = data.extinctu/4.239 * 3.303\n",
    "fdx = ((data.ra>=344.1) | (data.ra < 330)) &  (Ag<=0.21) & (data.zphotNW>=2.9) & (data.zphotNW<=5.4)\n",
    "classification = (data.ypredBAG+data.ypredSVM+data.ypredRFC)\n",
    "\n",
    "imag = -2.5/np.log(10)*(np.arcsinh(data.iflux/1.0e9/(2*1.8e-10))+np.log(1.8e-10))-1.698*data.extinctu/4.239\n",
    "print data.iflux\n",
    "print imag\n",
    "\n",
    "dx = ((data.zphotNW>=2.9) & (data.zphotNW<=5.4) & (data.dec >=-1.2) & (data.dec<=1.2)) &  ((fdx) |(classification <2))\n",
    "ra = data.ra[dx]\n",
    "dec= data.dec[dx]\n",
    "\n",
    "tbhdu=pf.BinTableHDU.from_columns([pf.Column(name='RA',format='D',array=ra),\n",
    "pf.Column(name='DEC',format='D',array=dec),pf.Column(name='imag',format='D',array=imag)])\n",
    "\n",
    "prihdr=pf.Header()\n",
    "prihdr['COMMENT']=\"Catalog of high redshift quasars in the SpIES field with all cuts\"\n",
    "prihdu=pf.PrimaryHDU(header=prihdr)\n",
    "hdulist = pf.HDUList([prihdu,tbhdu])\n",
    "#hdulist=pf.HDUList(data[dx])\n",
    "#hdulist.writeto('/Users/johntimlin/Catalogs/QSO_candidates/Final_S82_candidates_full/Candidates_with_cuts_S82_imag.fits')\n"
   ]
  },
  {
   "cell_type": "code",
   "execution_count": 41,
   "metadata": {
    "collapsed": false
   },
   "outputs": [
    {
     "name": "stdout",
     "output_type": "stream",
     "text": [
      "[  2.61881111e+19   1.00728056e+20   3.74892500e+19 ...,   4.00483333e+18\n",
      "   5.67055556e+18   5.34041667e+18]\n",
      "[ 19.86120529  18.52087514  19.61481293 ...,  22.01173734  21.59673618\n",
      "  21.6926586 ]\n"
     ]
    }
   ],
   "source": [
    "imag = -2.5/np.log(10)*(np.arcsinh(data.iflux/1.0e-9/(2*1.8e-10))+np.log(1.8e-10))-1.698*data.extinctu/4.239\n",
    "\n",
    "print data.iflux/1.0e-9/(2*1.8e-10)\n",
    "print (np.arcsinh(data.iflux/1.0e9/(2*1.8e-10))+np.log(1.8e-10))*(-2.5/np.log(10))-1.698*data.extinctu/4.239"
   ]
  },
  {
   "cell_type": "code",
   "execution_count": null,
   "metadata": {
    "collapsed": true
   },
   "outputs": [],
   "source": []
  },
  {
   "cell_type": "code",
   "execution_count": null,
   "metadata": {
    "collapsed": true
   },
   "outputs": [],
   "source": []
  },
  {
   "cell_type": "code",
   "execution_count": null,
   "metadata": {
    "collapsed": true
   },
   "outputs": [],
   "source": []
  },
  {
   "cell_type": "code",
   "execution_count": null,
   "metadata": {
    "collapsed": true
   },
   "outputs": [],
   "source": []
  },
  {
   "cell_type": "code",
   "execution_count": null,
   "metadata": {
    "collapsed": true
   },
   "outputs": [],
   "source": []
  },
  {
   "cell_type": "code",
   "execution_count": null,
   "metadata": {
    "collapsed": true
   },
   "outputs": [],
   "source": []
  }
 ],
 "metadata": {
  "kernelspec": {
   "display_name": "Python 2",
   "language": "python",
   "name": "python2"
  },
  "language_info": {
   "codemirror_mode": {
    "name": "ipython",
    "version": 2
   },
   "file_extension": ".py",
   "mimetype": "text/x-python",
   "name": "python",
   "nbconvert_exporter": "python",
   "pygments_lexer": "ipython2",
   "version": "2.7.12"
  }
 },
 "nbformat": 4,
 "nbformat_minor": 1
}
