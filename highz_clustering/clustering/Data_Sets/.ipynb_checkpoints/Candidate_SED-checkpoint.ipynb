{
 "cells": [
  {
   "cell_type": "code",
   "execution_count": 1,
   "metadata": {
    "collapsed": true
   },
   "outputs": [],
   "source": [
    "%matplotlib inline\n",
    "import numpy as np\n",
    "from astropy.io import fits as pf\n",
    "import matplotlib.pyplot as plt"
   ]
  },
  {
   "cell_type": "code",
   "execution_count": 3,
   "metadata": {
    "collapsed": false
   },
   "outputs": [],
   "source": [
    "#open the candidate file\n",
    "\n",
    "dfile = 'QSO_Candidates_Final_Clustering_Set.fits'\n",
    "\n",
    "data = pf.open(dfile)[1].data\n",
    "\n"
   ]
  },
  {
   "cell_type": "code",
   "execution_count": 4,
   "metadata": {
    "collapsed": true
   },
   "outputs": [],
   "source": [
    "#Separate the 7 colors into arrays\n",
    "\n",
    "u = data['ug'] + data ['gr'] + data['ri'] + data['imag']\n",
    "g = data ['gr'] + data['ri'] + data['imag']\n",
    "r = data['ri'] + data['imag']\n",
    "i = data['imag']\n",
    "z = data['imag'] - data['iz']\n",
    "s1= data['imag'] - (data['zs1'] + data['iz'])\n",
    "s2= data['imag'] - (data['s1s2'] + data['zs1'] + data['iz'])"
   ]
  },
  {
   "cell_type": "code",
   "execution_count": 25,
   "metadata": {
    "collapsed": false
   },
   "outputs": [],
   "source": [
    "u = u[:, np.newaxis]\n",
    "g = g[:, np.newaxis]\n",
    "r = r[:, np.newaxis]\n",
    "i = i[:, np.newaxis]\n",
    "z = z[:, np.newaxis]\n",
    "s1= s1[:, np.newaxis]\n",
    "s2= s2[:, np.newaxis]"
   ]
  },
  {
   "cell_type": "code",
   "execution_count": 34,
   "metadata": {
    "collapsed": false
   },
   "outputs": [],
   "source": [
    "colarray = np.hstack([u,g,r,i,z,s1,s2])"
   ]
  },
  {
   "cell_type": "code",
   "execution_count": 39,
   "metadata": {
    "collapsed": false
   },
   "outputs": [
    {
     "name": "stdout",
     "output_type": "stream",
     "text": [
      "(9076, 7)\n"
     ]
    }
   ],
   "source": [
    "bandpass = [3543, 4770, 6231, 7625, 9134, 36000, 45000]\n"
   ]
  },
  {
   "cell_type": "code",
   "execution_count": null,
   "metadata": {
    "collapsed": true
   },
   "outputs": [],
   "source": []
  }
 ],
 "metadata": {
  "kernelspec": {
   "display_name": "Python 2",
   "language": "python",
   "name": "python2"
  },
  "language_info": {
   "codemirror_mode": {
    "name": "ipython",
    "version": 2
   },
   "file_extension": ".py",
   "mimetype": "text/x-python",
   "name": "python",
   "nbconvert_exporter": "python",
   "pygments_lexer": "ipython2",
   "version": "2.7.12"
  }
 },
 "nbformat": 4,
 "nbformat_minor": 1
}
